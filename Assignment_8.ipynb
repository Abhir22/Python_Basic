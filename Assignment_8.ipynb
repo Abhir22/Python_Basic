{
  "metadata": {
    "kernelspec": {
      "name": "python",
      "display_name": "Python (Pyodide)",
      "language": "python"
    },
    "language_info": {
      "codemirror_mode": {
        "name": "python",
        "version": 3
      },
      "file_extension": ".py",
      "mimetype": "text/x-python",
      "name": "python",
      "nbconvert_exporter": "python",
      "pygments_lexer": "ipython3",
      "version": "3.8"
    }
  },
  "nbformat_minor": 5,
  "nbformat": 4,
  "cells": [
    {
      "cell_type": "markdown",
      "source": "1. Is the Python Standard Library included with PyInputPlus?",
      "metadata": {},
      "id": "75590f19-cb50-47e6-8100-bdce3e6d1a65"
    },
    {
      "cell_type": "markdown",
      "source": "No, the Python Standard Library is not included with PyInputPlus. PyInputPlus is a third-party library that provides additional functionality for taking input from users in a more convenient and robust manner than the built-in input() function. However, PyInputPlus does make use of some modules from the Python Standard Library, such as re (regular expressions) and datetime (date and time operations), to implement its features. So while PyInputPlus relies on the Python Standard Library, it is a separate library that you need to install and import separately in your Python projects.",
      "metadata": {},
      "id": "7f94f07a-2a59-471b-b0ce-5a60737ec100"
    },
    {
      "cell_type": "markdown",
      "source": "2. Why is PyInputPlus commonly imported with import pyinputplus as pypi?",
      "metadata": {},
      "id": "da777cae-c444-4518-81d6-cf3eb7defe7a"
    },
    {
      "cell_type": "markdown",
      "source": "PyInputPlus is commonly imported with the alias pypi (or any other chosen alias) for brevity and convenience. It allows you to use a shorter name when referring to the PyInputPlus library in your code",
      "metadata": {},
      "id": "44f2d72a-1df2-43c9-96a4-b7e35caa23cb"
    },
    {
      "cell_type": "markdown",
      "source": "3. How do you distinguish between inputInt() and inputFloat()?",
      "metadata": {},
      "id": "836a9491-b981-4edc-b7b4-1632e6410209"
    },
    {
      "cell_type": "markdown",
      "source": "inputInt() is used to get an integer input from the user. It ensures that the input is a whole number without any decimal places. If the user enters something that is not a whole number, it will keep asking for a valid integer input.\ninputFloat() is used to get a floating-point number input from the user. It allows decimal numbers. If the user enters something that is not a valid floating-point number, it will keep asking for a valid float input.",
      "metadata": {},
      "id": "1e305b6a-95f5-4d20-bdb5-8087b2badf4a"
    },
    {
      "cell_type": "markdown",
      "source": "4. Using PyInputPlus, how do you ensure that the user enters a whole number between 0 and 99?",
      "metadata": {},
      "id": "092342b4-1dec-4280-9796-7375255c853e"
    },
    {
      "cell_type": "code",
      "source": "import pyinputplus as pypi\n\nnumber = pypi.inputInt(\"Enter a whole number between 0 and 99: \", min=0, max=99)\nprint(\"You entered:\", number)\n",
      "metadata": {},
      "execution_count": null,
      "outputs": [],
      "id": "fe600f63-0fb2-4a4e-881e-675492b3fb50"
    },
    {
      "cell_type": "markdown",
      "source": "5. What is transferred to the keyword arguments allowRegexes and blockRegexes?",
      "metadata": {},
      "id": "6c3f5a4d-68d6-4682-9df1-ee9d18742ccd"
    },
    {
      "cell_type": "markdown",
      "source": "In the context of PyInputPlus, the keyword arguments allowRegexes and blockRegexes are used to specify regular expressions that control the allowed and blocked patterns for user input.\n\nallowRegexes (optional): This argument accepts a list of regular expression patterns as strings. If provided, PyInputPlus will only accept input that matches at least one of the patterns in the allowRegexes list. Any input that doesn't match any of the allowed patterns will be rejected.\n\nblockRegexes (optional): This argument also accepts a list of regular expression patterns as strings. If provided, PyInputPlus will reject input that matches any of the patterns in the blockRegexes list. If the user enters input that matches any of the blocked patterns, it will be considered invalid.",
      "metadata": {},
      "id": "3de107c6-91b7-4414-8f38-4c82502f16e6"
    },
    {
      "cell_type": "markdown",
      "source": "6. If a blank input is entered three times, what does inputStr(limit=3) do?",
      "metadata": {},
      "id": "10390eab-4e81-40ca-8a10-c5985de46e10"
    },
    {
      "cell_type": "markdown",
      "source": "When we use inputStr(limit=3) in PyInputPlus and a blank input is entered three times consecutively, it raises the ValidationException with a message indicating that the limit has been reached.\n\nThe limit parameter specifies the maximum number of attempts or consecutive blank inputs allowed. If the user provides a blank input, PyInputPlus counts it as an invalid input. When the number of consecutive invalid inputs (blank inputs in this case) reaches the specified limit, the ValidationException is raised.",
      "metadata": {},
      "id": "28ad1cf5-959b-492b-8e08-c7baddcb1779"
    },
    {
      "cell_type": "markdown",
      "source": "7. If blank input is entered three times, what does inputStr(limit=3, default=&#39;hello&#39;) do?",
      "metadata": {},
      "id": "47d55efa-c51d-4bb8-a5df-4c7e65e1fb9c"
    },
    {
      "cell_type": "markdown",
      "source": "When using inputStr(limit=3, default='hello') in PyInputPlus and a blank input is entered three times consecutively, it returns the default value ('hello') without raising an exception.\n\nThe limit parameter specifies the maximum number of attempts or consecutive blank inputs allowed. If the user provides a blank input, it counts as an invalid input. However, when the number of consecutive invalid inputs (blank inputs) reaches the specified limit, instead of raising a ValidationException, PyInputPlus returns the default value specified by the default parameter.",
      "metadata": {},
      "id": "6dc8b0dd-3c37-42d2-b94c-2a3faa26c0c4"
    }
  ]
}