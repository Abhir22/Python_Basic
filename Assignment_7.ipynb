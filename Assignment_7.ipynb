{
  "metadata": {
    "language_info": {
      "codemirror_mode": {
        "name": "python",
        "version": 3
      },
      "file_extension": ".py",
      "mimetype": "text/x-python",
      "name": "python",
      "nbconvert_exporter": "python",
      "pygments_lexer": "ipython3",
      "version": "3.8"
    },
    "kernelspec": {
      "name": "python",
      "display_name": "Python (Pyodide)",
      "language": "python"
    }
  },
  "nbformat_minor": 4,
  "nbformat": 4,
  "cells": [
    {
      "cell_type": "markdown",
      "source": "1. What is the name of the feature responsible for generating Regex objects?",
      "metadata": {}
    },
    {
      "cell_type": "code",
      "source": "#The re module is responsible for generating Regex objects.\nimport re\nre.compile(\"string\")",
      "metadata": {
        "trusted": true
      },
      "execution_count": 2,
      "outputs": [
        {
          "execution_count": 2,
          "output_type": "execute_result",
          "data": {
            "text/plain": "re.compile(r'string', re.UNICODE)"
          },
          "metadata": {}
        }
      ]
    },
    {
      "cell_type": "markdown",
      "source": "2. Why do raw strings often appear in Regex objects?",
      "metadata": {}
    },
    {
      "cell_type": "code",
      "source": "Raw strings are used in Regex objects to avoid having to escape backslashes which are used frequently in regular expressions.",
      "metadata": {},
      "execution_count": null,
      "outputs": []
    },
    {
      "cell_type": "markdown",
      "source": "3. What is the return value of the search() method?",
      "metadata": {}
    },
    {
      "cell_type": "code",
      "source": "The search() method returns a Match object which can be used to obtain information about\nthe location and content of the first match in the searched string.",
      "metadata": {},
      "execution_count": null,
      "outputs": []
    },
    {
      "cell_type": "markdown",
      "source": "4. From a Match item, how do you get the actual strings that match the pattern?",
      "metadata": {}
    },
    {
      "cell_type": "code",
      "source": "#The group() method can be used to get the actual strings that match the pattern.\nphoneNumRegex = re.compile(r'\\d\\d\\d-\\d\\d\\d-\\d\\d\\d\\d')\nmo = phoneNumRegex.search('My number is 345-444-4542.')\nprint('Phone number is: ' + mo.group())",
      "metadata": {
        "trusted": true
      },
      "execution_count": 14,
      "outputs": [
        {
          "name": "stdout",
          "text": "Phone number is: 345-444-4542\n",
          "output_type": "stream"
        }
      ]
    },
    {
      "cell_type": "markdown",
      "source": "5. In the regex which created from the r'(\\d\\d\\d)-(\\d\\d\\d-\\d\\d\\d\\d)', what does group zero cover?Group 2? Group 1?",
      "metadata": {}
    },
    {
      "cell_type": "code",
      "source": "phoneNumRegex = re.compile(r'(\\d\\d\\d)-(\\d\\d\\d-\\d\\d\\d\\d)')\nmo = phoneNumRegex.search('My number is 345-444-4542.')\nmo.group(1)",
      "metadata": {
        "trusted": true
      },
      "execution_count": 15,
      "outputs": [
        {
          "execution_count": 15,
          "output_type": "execute_result",
          "data": {
            "text/plain": "'345'"
          },
          "metadata": {}
        }
      ]
    },
    {
      "cell_type": "code",
      "source": "mo.group(2)",
      "metadata": {
        "trusted": true
      },
      "execution_count": 16,
      "outputs": [
        {
          "execution_count": 16,
          "output_type": "execute_result",
          "data": {
            "text/plain": "'444-4542'"
          },
          "metadata": {}
        }
      ]
    },
    {
      "cell_type": "code",
      "source": "mo.group(0)",
      "metadata": {
        "trusted": true
      },
      "execution_count": 17,
      "outputs": [
        {
          "execution_count": 17,
          "output_type": "execute_result",
          "data": {
            "text/plain": "'345-444-4542'"
          },
          "metadata": {}
        }
      ]
    },
    {
      "cell_type": "markdown",
      "source": "Group zero covers the entire match, group 1 covers the first set of parentheses, and group 2 covers the second set of parentheses.",
      "metadata": {}
    },
    {
      "cell_type": "markdown",
      "source": "6. In standard expression syntax, parentheses and intervals have distinct meanings. \nHow can you tell a regex that you want it to fit real parentheses and periods?",
      "metadata": {}
    },
    {
      "cell_type": "code",
      "source": "To fit real parentheses and periods, you can escape them using a backslash () before the character.",
      "metadata": {},
      "execution_count": null,
      "outputs": []
    },
    {
      "cell_type": "markdown",
      "source": "7. The findall() method returns a string list or a list of string tuples. What causes it to return one of\nthe two options?",
      "metadata": {}
    },
    {
      "cell_type": "code",
      "source": "The findall() method returns a list of all non-overlapping matches in the searched string.\nIf the regular expression has no groups a list of strings is returned\nif it has groups a list of tuples containing strings is returned.",
      "metadata": {},
      "execution_count": null,
      "outputs": []
    },
    {
      "cell_type": "markdown",
      "source": "8. In standard expressions, what does the | character mean?",
      "metadata": {}
    },
    {
      "cell_type": "code",
      "source": "The | character in standard expressions represents alternation, which matches either the expression preceding it or the expression following it.",
      "metadata": {},
      "execution_count": null,
      "outputs": []
    },
    {
      "cell_type": "markdown",
      "source": "9. In regular expressions, what does the character stand for?",
      "metadata": {}
    },
    {
      "cell_type": "code",
      "source": "In regular expressions, the dot (.) character matches any single character except a newline character.",
      "metadata": {},
      "execution_count": null,
      "outputs": []
    },
    {
      "cell_type": "markdown",
      "source": "10.In regular expressions, what is the difference between the + and * characters?",
      "metadata": {}
    },
    {
      "cell_type": "code",
      "source": "In regular expressions, the + character matches one or more occurrences of the preceding expression\nwhile the * character matches zero or more occurrences of the preceding expression.",
      "metadata": {},
      "execution_count": null,
      "outputs": []
    },
    {
      "cell_type": "markdown",
      "source": "11. What is the difference between {4} and {4,5} in regular expression?",
      "metadata": {}
    },
    {
      "cell_type": "code",
      "source": "{4} matches exactly four occurrences of the preceding expression, while {4,5} matches between four and five occurrences of the preceding expression.",
      "metadata": {},
      "execution_count": null,
      "outputs": []
    },
    {
      "cell_type": "markdown",
      "source": "12. What do you mean by the \\d, \\w, and \\s shorthand character classes signify in regular expressions?",
      "metadata": {}
    },
    {
      "cell_type": "code",
      "source": "In regular expressions, \\d represents any digit character, \\w represents any word character and \\s represents any whitespace character.",
      "metadata": {},
      "execution_count": null,
      "outputs": []
    },
    {
      "cell_type": "markdown",
      "source": "13. What do means by \\D, \\W, and \\S shorthand character classes signify in regular expressions?",
      "metadata": {}
    },
    {
      "cell_type": "code",
      "source": "In regular expressions, \\D represents any non-digit character, \\W represents any non-word character, and \\S represents any non-whitespace character.",
      "metadata": {},
      "execution_count": null,
      "outputs": []
    },
    {
      "cell_type": "markdown",
      "source": "14. What is the difference between .*? and .*?",
      "metadata": {}
    },
    {
      "cell_type": "code",
      "source": ".* - The dot-star uses greedy mode: It will always try to match as much text as possible.\n.? - To match any and all text in a non-greedy fashion, use the dot, star, and question mark (.?). \nLike with braces, the question mark tells Python to match in a non-greedy way.",
      "metadata": {},
      "execution_count": null,
      "outputs": []
    },
    {
      "cell_type": "markdown",
      "source": "15. What is the syntax for matching both numbers and lowercase letters with a character class?",
      "metadata": {}
    },
    {
      "cell_type": "code",
      "source": "The syntax for matching both numbers and lowercase letters with a character class is [0-9a-z].",
      "metadata": {},
      "execution_count": null,
      "outputs": []
    },
    {
      "cell_type": "markdown",
      "source": "16. What is the procedure for making a normal expression in regax case insensitive?",
      "metadata": {}
    },
    {
      "cell_type": "code",
      "source": "To make a normal expression in regex case insensitive pass the re.IGNORECASE flag as the second argument to the re.compile() function.",
      "metadata": {},
      "execution_count": null,
      "outputs": []
    },
    {
      "cell_type": "markdown",
      "source": "17. What does the . character normally match? What does it match if re.DOTALL is passed as 2nd\nargument in re.compile()?",
      "metadata": {}
    },
    {
      "cell_type": "code",
      "source": "The . character normally matches any single character except a newline character. \nIf re.DOTALL is passed as the second argument to re.compile(), the . character will match any character, including newline characters.",
      "metadata": {},
      "execution_count": null,
      "outputs": []
    },
    {
      "cell_type": "markdown",
      "source": "18. If numRegex = re.compile(r'\\d+'), what will numRegex.sub('X', '11 drummers, 10 pipers, five rings, 4 hen') return?",
      "metadata": {}
    },
    {
      "cell_type": "code",
      "source": "numRegex = re.compile(r'\\d+')\nmo = numRegex.sub('X', '11 drummers, 10 pipers, five rings, 4 hen')\nmo",
      "metadata": {
        "trusted": true
      },
      "execution_count": 19,
      "outputs": [
        {
          "execution_count": 19,
          "output_type": "execute_result",
          "data": {
            "text/plain": "'X drummers, X pipers, five rings, X hen'"
          },
          "metadata": {}
        }
      ]
    },
    {
      "cell_type": "markdown",
      "source": "19. What does passing re.VERBOSE as the 2nd argument to re.compile() allow to do?",
      "metadata": {}
    },
    {
      "cell_type": "code",
      "source": "Passing re.VERBOSE as the second argument to re.compile() allows us to add whitespace and comments to a regular expression, making it more readable.",
      "metadata": {},
      "execution_count": null,
      "outputs": []
    },
    {
      "cell_type": "code",
      "source": "20. How would you write a regex that match a number with comma for every three digits? It must\nmatch the given following:\n    '42'\n    '1,234'\n    '6,368,745'\nbut not the following:\n    '12,34,567' (which has only two digits between the commas)\n    '1234'(which lacks commas)",
      "metadata": {},
      "execution_count": null,
      "outputs": []
    },
    {
      "cell_type": "code",
      "source": "import re\n\npattern = re.compile(r'^\\d{1,3}(,\\d{3})*$')\n\n# Test the pattern\nnumbers = ['42', '1,234', '6,368,745', '12,34,567', '1234']\nfor number in numbers:\n    if pattern.match(number):\n        print(number, '-matches')\n    else:\n        print(number, '-does not match')\n",
      "metadata": {
        "trusted": true
      },
      "execution_count": 31,
      "outputs": [
        {
          "name": "stdout",
          "text": "42 -matches\n1,234 -matches\n6,368,745 -matches\n12,34,567 -does not match\n1234 -does not match\n",
          "output_type": "stream"
        }
      ]
    },
    {
      "cell_type": "markdown",
      "source": "21. How would you write a regex that matches the full name of someone whose last name is\nWatanabe? You can assume that the first name that comes before it will always be one word that\nbegins with a capital letter. The regex must match the following:\n    ",
      "metadata": {}
    },
    {
      "cell_type": "code",
      "source": "import re\n\npattern = re.compile(r'^[A-Z][a-z]*\\sWatanabe$')\nnames = ['Haruto Watanabe', 'Alice Watanabe', 'RoboCop Watanabe', 'haruto Watanabe', 'Mr. Watanabe', 'Watanabe']\nfor name in names:\n    if pattern.match(name):\n        print(name, '-matches')\n    else:\n        print(name, '-does not match')\n",
      "metadata": {
        "trusted": true
      },
      "execution_count": 32,
      "outputs": [
        {
          "name": "stdout",
          "text": "Haruto Watanabe -matches\nAlice Watanabe -matches\nRoboCop Watanabe -does not match\nharuto Watanabe -does not match\nMr. Watanabe -does not match\nWatanabe -does not match\n",
          "output_type": "stream"
        }
      ]
    },
    {
      "cell_type": "markdown",
      "source": "22. How would you write a regex that matches a sentence where the first word is either Alice, Bob,\nor Carol; the second word is either eats, pets, or throws; the third word is apples, cats, or baseballs;\nand the sentence ends with a period? This regex should be case-insensitive. It must match the\nfollowing:",
      "metadata": {}
    },
    {
      "cell_type": "code",
      "source": "import re\n\npattern = r'^(Alice|Bob|Carol)\\s+(eats|pets|throws)\\s+(apples|cats|baseballs)\\.$'\ntext1 = 'Alice eats apples.'\ntext2 = 'Bob pets cats.'\ntext3 = 'Carol throws baseballs.'\ntext4 = 'Alice throws Apples.'\ntext5 = 'BOB EATS CATS.'\ntext6 = 'RoboCop eats apples.'\ntext7 = 'ALICE THROWS FOOTBALLS.'\ntext8 = 'Carol eats 7 cats.'\n\nprint(re.match(pattern, text1, re.IGNORECASE))\nprint(re.match(pattern, text2, re.IGNORECASE))\nprint(re.match(pattern, text3, re.IGNORECASE))\nprint(re.match(pattern, text4, re.IGNORECASE))\nprint(re.match(pattern, text5, re.IGNORECASE))\nprint(re.match(pattern, text6, re.IGNORECASE))\nprint(re.match(pattern, text7, re.IGNORECASE))\nprint(re.match(pattern, text8, re.IGNORECASE))\n",
      "metadata": {
        "trusted": true
      },
      "execution_count": 33,
      "outputs": [
        {
          "name": "stdout",
          "text": "<re.Match object; span=(0, 18), match='Alice eats apples.'>\n<re.Match object; span=(0, 14), match='Bob pets cats.'>\n<re.Match object; span=(0, 23), match='Carol throws baseballs.'>\n<re.Match object; span=(0, 20), match='Alice throws Apples.'>\n<re.Match object; span=(0, 14), match='BOB EATS CATS.'>\nNone\nNone\nNone\n",
          "output_type": "stream"
        }
      ]
    }
  ]
}