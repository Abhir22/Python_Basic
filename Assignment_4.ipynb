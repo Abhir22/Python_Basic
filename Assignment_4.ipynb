{
  "metadata": {
    "language_info": {
      "codemirror_mode": {
        "name": "python",
        "version": 3
      },
      "file_extension": ".py",
      "mimetype": "text/x-python",
      "name": "python",
      "nbconvert_exporter": "python",
      "pygments_lexer": "ipython3",
      "version": "3.8"
    },
    "kernelspec": {
      "name": "python",
      "display_name": "Python (Pyodide)",
      "language": "python"
    }
  },
  "nbformat_minor": 4,
  "nbformat": 4,
  "cells": [
    {
      "cell_type": "code",
      "source": "1. What exactly is []?",
      "metadata": {},
      "execution_count": null,
      "outputs": []
    },
    {
      "cell_type": "code",
      "source": "[] is used to denote an empty list. A list is a mutable data structure that can hold an ordered collection of elements of different types.\nAn empty list is simply a list with no elements in it.",
      "metadata": {},
      "execution_count": null,
      "outputs": []
    },
    {
      "cell_type": "code",
      "source": "2. In a list of values stored in a variable called spam, how would you assign the value 'hello' as the\nthird value? (Assume [2, 4, 6, 8, 10] are in spam.)",
      "metadata": {},
      "execution_count": null,
      "outputs": []
    },
    {
      "cell_type": "code",
      "source": "spam[2] = 'hello' , By doing this we can assign the value.\n",
      "metadata": {},
      "execution_count": null,
      "outputs": []
    },
    {
      "cell_type": "code",
      "source": "Let's pretend the spam includes the list ['a', 'b', 'c', 'd'] for the next three queries.\n3. What is the value of spam[int(int('3'; * 2) / 11)]?",
      "metadata": {},
      "execution_count": null,
      "outputs": []
    },
    {
      "cell_type": "code",
      "source": "The value of spam[int(int('3' * 2) / 11)] is 'd'. ",
      "metadata": {},
      "execution_count": null,
      "outputs": []
    },
    {
      "cell_type": "code",
      "source": "4. What is the value of spam[-1]?",
      "metadata": {},
      "execution_count": null,
      "outputs": []
    },
    {
      "cell_type": "code",
      "source": "The value of spam[-1] is 'd'. This is because -1 is used to index the last element of the list.",
      "metadata": {},
      "execution_count": null,
      "outputs": []
    },
    {
      "cell_type": "code",
      "source": "5. What is the value of spam[:2]?",
      "metadata": {},
      "execution_count": null,
      "outputs": []
    },
    {
      "cell_type": "code",
      "source": "The value of spam[:2] is ['a', 'b'].",
      "metadata": {},
      "execution_count": null,
      "outputs": []
    },
    {
      "cell_type": "markdown",
      "source": "Let's pretend bacon has the list [3.14, 'cat', 11, 'cat, True] for the next three questions.",
      "metadata": {}
    },
    {
      "cell_type": "code",
      "source": "6. What is the value of bacon.index('cat')?",
      "metadata": {},
      "execution_count": null,
      "outputs": []
    },
    {
      "cell_type": "code",
      "source": "The value of bacon.index('cat') is 1.",
      "metadata": {},
      "execution_count": null,
      "outputs": []
    },
    {
      "cell_type": "code",
      "source": "7. How does bacon.append(99) change the look of the list value in bacon?",
      "metadata": {},
      "execution_count": null,
      "outputs": []
    },
    {
      "cell_type": "code",
      "source": "The bacon.append(99) method adds the value 99 to the end of the list bacon, changing its look to [3.14, 'cat', 11, 'cat', True, 99].",
      "metadata": {},
      "execution_count": null,
      "outputs": []
    },
    {
      "cell_type": "code",
      "source": " 8. How does bacon.remove('cat') change the look of the list in bacon?",
      "metadata": {},
      "execution_count": null,
      "outputs": []
    },
    {
      "cell_type": "code",
      "source": "The bacon.remove('cat') method removes the first occurrence of the value 'cat' from the list bacon, changing its look to [3.14, 11, 'cat', True].",
      "metadata": {},
      "execution_count": null,
      "outputs": []
    },
    {
      "cell_type": "code",
      "source": "9. What are the list concatenation and list replication operators?",
      "metadata": {},
      "execution_count": null,
      "outputs": []
    },
    {
      "cell_type": "code",
      "source": "The list concatenation operator is +, which combines two lists into a single list. \nThe list replication operator is *, which repeats a list a certain number of times.",
      "metadata": {},
      "execution_count": null,
      "outputs": []
    },
    {
      "cell_type": "code",
      "source": "10. What is difference between the list methods append() and insert()?",
      "metadata": {},
      "execution_count": null,
      "outputs": []
    },
    {
      "cell_type": "code",
      "source": "The append() method adds an element to the end of a list, while the insert() method inserts an element at a specific index in the list.",
      "metadata": {},
      "execution_count": null,
      "outputs": []
    },
    {
      "cell_type": "code",
      "source": "11. What are the two methods for removing items from a list?",
      "metadata": {},
      "execution_count": null,
      "outputs": []
    },
    {
      "cell_type": "code",
      "source": "The two methods for removing items from a list are \n       1. remove() \n       2. pop()\n",
      "metadata": {},
      "execution_count": null,
      "outputs": []
    },
    {
      "cell_type": "code",
      "source": "12. Describe how list values and string values are identical.",
      "metadata": {},
      "execution_count": null,
      "outputs": []
    },
    {
      "cell_type": "code",
      "source": "Both list values and string values are ordered sequences of items that can be indexed and sliced.",
      "metadata": {},
      "execution_count": null,
      "outputs": []
    },
    {
      "cell_type": "code",
      "source": "13. What's the difference between tuples and lists?",
      "metadata": {},
      "execution_count": null,
      "outputs": []
    },
    {
      "cell_type": "code",
      "source": "The main difference between tuples and lists is that tuples are immutable meaning that their values \ncannot be changed after they are created, while lists are mutable and can be modified.",
      "metadata": {},
      "execution_count": null,
      "outputs": []
    },
    {
      "cell_type": "code",
      "source": "14. How do you type a tuple value that only contains the integer 42?",
      "metadata": {},
      "execution_count": null,
      "outputs": []
    },
    {
      "cell_type": "code",
      "source": "my_tuple = (42,)\n",
      "metadata": {},
      "execution_count": null,
      "outputs": []
    },
    {
      "cell_type": "code",
      "source": "15. How do you get a list value's tuple form? How do you get a tuple value's list form?",
      "metadata": {},
      "execution_count": null,
      "outputs": []
    },
    {
      "cell_type": "code",
      "source": "To get a list value's tuple form we can use the tuple() function.\nexample:\n    my_list = [1, 2, 3]\n    my_tuple = tuple(my_list)\n\nTo get a tuple value's list form, you can use the list() function.\nexample:\n    my_tuple = (1, 2, 3)\n    my_list = list(my_tuple)\n",
      "metadata": {},
      "execution_count": null,
      "outputs": []
    },
    {
      "cell_type": "code",
      "source": "16. Variables that \"contain\" list values are not necessarily lists themselves. Instead, what do they contain?",
      "metadata": {},
      "execution_count": null,
      "outputs": []
    },
    {
      "cell_type": "code",
      "source": "The variables that \"contains\" the list values are actually references to  list objects in memory. \nSo if we assign one list variable to another variable both variables refer to the same list object in memory\nso changes in one variable affect the other.This is called aliasing in Python.",
      "metadata": {},
      "execution_count": null,
      "outputs": []
    },
    {
      "cell_type": "code",
      "source": "17. How do you distinguish between copy.copy() and copy.deepcopy()?",
      "metadata": {},
      "execution_count": null,
      "outputs": []
    },
    {
      "cell_type": "code",
      "source": "The copy.copy() function creates a shallow copy of the list which means  the new list is a separate object\nbut its elements are references to the same objects as the original list. \nThe copy.deepcopy() function creates a deep copy of the list which means that the new list is a separate\nobject and its elements are also new objects with the same values as the elements in the original list.",
      "metadata": {},
      "execution_count": null,
      "outputs": []
    }
  ]
}