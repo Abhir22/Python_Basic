{
  "metadata": {
    "language_info": {
      "name": ""
    },
    "kernelspec": {
      "name": "python",
      "display_name": "Python (Pyodide)",
      "language": "python"
    }
  },
  "nbformat_minor": 4,
  "nbformat": 4,
  "cells": [
    {
      "cell_type": "code",
      "source": "1. In the below elements which of them are values or an expression? eg:- values can be\ninteger or string and expressions will be mathematical operators.",
      "metadata": {},
      "execution_count": null,
      "outputs": []
    },
    {
      "cell_type": "code",
      "source": "* - Expression (Multiplication Operator)\n'hello'- Value (String)\n-87.8 - Value (Float)\n- - Expression (Subtraction Operator)\n/ - Expression (Division Operator)\n+ - Expression (Addition Operator)\n6 - Value (Integer)",
      "metadata": {},
      "execution_count": null,
      "outputs": []
    },
    {
      "cell_type": "code",
      "source": "2. What is the difference between string and variable?",
      "metadata": {},
      "execution_count": null,
      "outputs": []
    },
    {
      "cell_type": "code",
      "source": "Variables are symbols that is used to store data in a program where as strings are the data that are used to fill variables.",
      "metadata": {},
      "execution_count": null,
      "outputs": []
    },
    {
      "cell_type": "code",
      "source": "3. Describe three different data types.",
      "metadata": {},
      "execution_count": null,
      "outputs": []
    },
    {
      "cell_type": "code",
      "source": "1>Integer(int) - Numeric data type for numbers without fractions. Example-707, 0, 707\n2>Character(char) - Single letter, digit, punctuation mark, symbol, or blank space. Example - a, 1, !.\n3>Boolean(bool) - True or false values . True means 1 and false means 0.",
      "metadata": {},
      "execution_count": null,
      "outputs": []
    },
    {
      "cell_type": "code",
      "source": "4. What is an expression made up of? What do all expressions do?",
      "metadata": {},
      "execution_count": null,
      "outputs": []
    },
    {
      "cell_type": "code",
      "source": "In programming, an expression is a combination of values, variables, operators, and function calls that produces a result or  value.\nAn expression can be as simple as a single value or variable, or it can be a complex combination of multiple values, operators, and function calls. \n \nExpressions are used in programming  to calculate or evaluate values. These are the basic elements of programming, as they allow us to perform calculations and make decisions based on the results.\nYou can use an expression  anywhere a value is expected, e.g. B. in a variable assignment, a function argument or a conditional statement.\nAll expressions in programming have specific syntax and evaluation rules  depending on the programming language  used.\n\n ",
      "metadata": {},
      "execution_count": null,
      "outputs": []
    },
    {
      "cell_type": "code",
      "source": "5. This assignment statements, like spam = 10. What is the difference between and expression and a statement?",
      "metadata": {},
      "execution_count": null,
      "outputs": []
    },
    {
      "cell_type": "code",
      "source": "Expression is a combination of values, variables, operators, and function calls that produces a value or a result.\nAn expression can be used anywhere a value is expected, such as in an assignment statement, function call, or conditional statement.\n\nA statement is a unit of code that performs a specific action, e.g.\nFor example, assigning a value to a variable, calling a function, or executing a series of statements.\nA statement may contain one or more statements as part of its execution, but its primary purpose is to perform a specific action or task.",
      "metadata": {},
      "execution_count": null,
      "outputs": []
    },
    {
      "cell_type": "code",
      "source": "6. After running the following code, what does the variable bacon contain?\nbacon = 22\nbacon + 1",
      "metadata": {},
      "execution_count": null,
      "outputs": []
    },
    {
      "cell_type": "code",
      "source": "The variable bacon will still contain the value of 22.",
      "metadata": {},
      "execution_count": null,
      "outputs": []
    },
    {
      "cell_type": "code",
      "source": "7. What should the values of the following two terms be?\n'spam'+ 'spamspam'\n'spam' * 3",
      "metadata": {},
      "execution_count": null,
      "outputs": []
    },
    {
      "cell_type": "code",
      "source": "Both expressions would result in the string value 'spamspamspam'.",
      "metadata": {},
      "execution_count": null,
      "outputs": []
    },
    {
      "cell_type": "code",
      "source": "8. Why is eggs a valid variable name while 100 is invalid?",
      "metadata": {},
      "execution_count": null,
      "outputs": []
    },
    {
      "cell_type": "code",
      "source": "Eggs is a valid variable name because it only contains letters, and it doesn't start with a number.\nwhere as 100 is an invalid variable name because it starts with a number",
      "metadata": {},
      "execution_count": null,
      "outputs": []
    },
    {
      "cell_type": "code",
      "source": "9. What three functions can be used to get the integer, floating-point number, or string version of a value?",
      "metadata": {},
      "execution_count": null,
      "outputs": []
    },
    {
      "cell_type": "code",
      "source": "int , float and str function is used to get the integer, floating-point number, or string version of a value.",
      "metadata": {},
      "execution_count": null,
      "outputs": []
    },
    {
      "cell_type": "code",
      "source": "10. Why does this expression cause an error? How can you fix it?\n'I have eaten'+ 99 + 'burritos.'",
      "metadata": {},
      "execution_count": null,
      "outputs": []
    },
    {
      "cell_type": "code",
      "source": "The expression 'I have eaten ' + 99 + ' burritos.' causes an error because the + operator is being used to concatenate strings and an integer.\n\nTo fix this error, we can convert the integer 99 to a string using the str() function before concatenating it with the other two strings.\nHere's the corrected expression:- 'I have eaten ' + str(99)+ ' burritos.'",
      "metadata": {},
      "execution_count": null,
      "outputs": []
    }
  ]
}