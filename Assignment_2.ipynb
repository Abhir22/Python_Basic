{
  "metadata": {
    "language_info": {
      "codemirror_mode": {
        "name": "python",
        "version": 3
      },
      "file_extension": ".py",
      "mimetype": "text/x-python",
      "name": "python",
      "nbconvert_exporter": "python",
      "pygments_lexer": "ipython3",
      "version": "3.8"
    },
    "kernelspec": {
      "name": "python",
      "display_name": "Python (Pyodide)",
      "language": "python"
    }
  },
  "nbformat_minor": 4,
  "nbformat": 4,
  "cells": [
    {
      "cell_type": "code",
      "source": "1.What are the two values of the Boolean data type? How do you write them?",
      "metadata": {},
      "execution_count": null,
      "outputs": []
    },
    {
      "cell_type": "code",
      "source": "The Boolean data type has two values: true and false.\nThese values are used to represent logical values.\nwe can write it as \nBoolean1 = True\nBoolean2 = False\nhere True means 1 and False means 0.",
      "metadata": {},
      "execution_count": null,
      "outputs": []
    },
    {
      "cell_type": "code",
      "source": "2. What are the three different types of Boolean operators?",
      "metadata": {},
      "execution_count": null,
      "outputs": []
    },
    {
      "cell_type": "code",
      "source": "Three different types of Boolean operators are \n1. AND operator (&&)\n2. OR operator (||)\n3. NOT operator (!)",
      "metadata": {},
      "execution_count": null,
      "outputs": []
    },
    {
      "cell_type": "raw",
      "source": "3. Make a list of each Boolean operator's truth tables (i.e. every possible combination of Boolean values for the operator and what it evaluate ).",
      "metadata": {}
    },
    {
      "cell_type": "code",
      "source": "And operator(&&):\nOperand 1 - Operand 2 - Result\ntrue        true        true\ntrue        false       false\nfalse       true        false\nfalse       false       false\nOR operator (||):\nOperand 1 - Operand 2 - Result\ntrue        true        true\ntrue        false       true\nfalse       true        true\nfalse       false       false\nNOT operator (!):\nOperand - Result\ntrue      false\nfalse     true\n",
      "metadata": {},
      "execution_count": null,
      "outputs": []
    },
    {
      "cell_type": "code",
      "source": "4. What are the values of the following expressions?\n(5 > 4) and (3 == 5)\nnot (5 > 4)\n(5 > 4) or (3 == 5)\nnot ((5 > 4) or (3 == 5))\n(True and True) and (True == False)\n(not False) or (not True)",
      "metadata": {},
      "execution_count": null,
      "outputs": []
    },
    {
      "cell_type": "code",
      "source": "(5 > 4) and (3 == 5)\n(5 > 4) is true, and (3 == 5) is false.\n-false.\n\nnot (5 > 4)\n(5 > 4) is true.\n-false.\n\n(5 > 4) or (3 == 5)\n(5 > 4) is true, and (3 == 5) is false.\n-true.\n\nnot ((5 > 4) or (3 == 5))\n(5 > 4) is true, and (3 == 5) is false.\n-false.\n\n(True and True) and (True == False)\n(True and True) is true, and (True == False) is false.\n-false.\n\n(not False) or (not True)\nnot False is true, and not True is false.\n-true.",
      "metadata": {},
      "execution_count": null,
      "outputs": []
    },
    {
      "cell_type": "code",
      "source": "5. What are the six comparison operators?",
      "metadata": {},
      "execution_count": null,
      "outputs": []
    },
    {
      "cell_type": "code",
      "source": "The six comparison operators:\n    1. Equal to (==)\n    2. Not equal to (!=)\n    3. Greater than (>)\n    4. Less than (<)\n    5. Greater than or equal to (>=)\n    6. Less than or equal to (<=)",
      "metadata": {},
      "execution_count": null,
      "outputs": []
    },
    {
      "cell_type": "code",
      "source": "6. How do you tell the difference between the equal to and assignment operators?Describe a condition and when you would use one.",
      "metadata": {},
      "execution_count": null,
      "outputs": []
    },
    {
      "cell_type": "code",
      "source": "The equal to operator (==) is used to compare two values for equality while the assignment operator (=) is used to assign a value to a variable.\nFor distinguish the equal to operator is used in comparisons or conditional statements, while the assignment operator is used to store a value in a variable.",
      "metadata": {},
      "execution_count": null,
      "outputs": []
    },
    {
      "cell_type": "code",
      "source": "7. Identify the three blocks in this code:\nspam = 0\nif spam == 10:\nprint('eggs')\nif spam > 5:\nprint('bacon')\nelse:\nprint('ham')\nprint('spam')\nprint('spam')",
      "metadata": {},
      "execution_count": null,
      "outputs": []
    },
    {
      "cell_type": "code",
      "source": "First Block code:\nspam = 0\nif spam == 10:\nprint('eggs')\n\nSecond Block code:\nif spam > 5:\nprint('bacon')\nelse:\nprint('ham')\n\nThird Block code:\nprint('spam')\nprint('spam')",
      "metadata": {},
      "execution_count": null,
      "outputs": []
    },
    {
      "cell_type": "code",
      "source": "8. Write code that prints Hello if 1 is stored in spam, prints Howdy if 2 is stored in spam, and prints\nGreetings! if anything else is stored in spam.",
      "metadata": {},
      "execution_count": null,
      "outputs": []
    },
    {
      "cell_type": "code",
      "source": "spam = 3\n\nif spam == 1:\n    print(\"Hello\")\nelif spam == 2:\n    print(\"Howdy\")\nelse:\n    print(\"Greetings!\")",
      "metadata": {
        "trusted": true
      },
      "execution_count": 2,
      "outputs": [
        {
          "name": "stdout",
          "text": "Greetings!\n",
          "output_type": "stream"
        }
      ]
    },
    {
      "cell_type": "code",
      "source": "9.If your programme is stuck in an endless loop, what keys you’ll press?",
      "metadata": {},
      "execution_count": null,
      "outputs": []
    },
    {
      "cell_type": "code",
      "source": "we can try to stop it by pressing Ctrl + C on Windows or Command + C on a Mac.",
      "metadata": {},
      "execution_count": null,
      "outputs": []
    },
    {
      "cell_type": "code",
      "source": "10. How can you tell the difference between break and continue?",
      "metadata": {},
      "execution_count": null,
      "outputs": []
    },
    {
      "cell_type": "code",
      "source": "The key difference between them is that break is used to exit the loop entirely, while continue is used to skip the current iteration of the loop and move on to the next one.",
      "metadata": {},
      "execution_count": null,
      "outputs": []
    },
    {
      "cell_type": "code",
      "source": "11. In a for loop, what is the difference between range(10), range(0, 10), and range(0, 10, 1)?",
      "metadata": {},
      "execution_count": null,
      "outputs": []
    },
    {
      "cell_type": "code",
      "source": "range(10) produces a sequence of 10 numbers starting at 0 and ending at 9, with a step size  of 1.\n \nrange(0, 10) produces a sequence of 10 numbers starting at 0 and ending at 9, with a step size of 1.\n \nrange(0, 10, 1) produces a sequence of 10 numbers starting at 0 and ending at 9, with a step size of 1.",
      "metadata": {},
      "execution_count": null,
      "outputs": []
    },
    {
      "cell_type": "code",
      "source": "12. Write a short program that prints the numbers 1 to 10 using a for loop. Then write an equivalent\nprogram that prints the numbers 1 to 10 using a while loop.",
      "metadata": {},
      "execution_count": null,
      "outputs": []
    },
    {
      "cell_type": "code",
      "source": "for i in range(1, 11):\n    print(i)\n    \n",
      "metadata": {
        "trusted": true
      },
      "execution_count": 3,
      "outputs": [
        {
          "name": "stdout",
          "text": "1\n2\n3\n4\n5\n6\n7\n8\n9\n10\n",
          "output_type": "stream"
        }
      ]
    },
    {
      "cell_type": "code",
      "source": "i = 1\nwhile i <= 10:\n    print(i)\n    i += 1\n",
      "metadata": {
        "trusted": true
      },
      "execution_count": 4,
      "outputs": [
        {
          "name": "stdout",
          "text": "1\n2\n3\n4\n5\n6\n7\n8\n9\n10\n",
          "output_type": "stream"
        }
      ]
    },
    {
      "cell_type": "code",
      "source": "13. If you had a function named bacon() inside a module named spam, how would you call it after\nimporting spam?",
      "metadata": {},
      "execution_count": null,
      "outputs": []
    },
    {
      "cell_type": "code",
      "source": "If we have a function named bacon() inside a module named spam, then we can call it after importing spam using the following syntax:\n    import spam\nspam.bacon()\n",
      "metadata": {},
      "execution_count": null,
      "outputs": []
    }
  ]
}