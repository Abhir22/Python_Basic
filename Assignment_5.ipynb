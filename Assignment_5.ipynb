{
  "metadata": {
    "language_info": {
      "codemirror_mode": {
        "name": "python",
        "version": 3
      },
      "file_extension": ".py",
      "mimetype": "text/x-python",
      "name": "python",
      "nbconvert_exporter": "python",
      "pygments_lexer": "ipython3",
      "version": "3.8"
    },
    "kernelspec": {
      "name": "python",
      "display_name": "Python (Pyodide)",
      "language": "python"
    }
  },
  "nbformat_minor": 4,
  "nbformat": 4,
  "cells": [
    {
      "cell_type": "code",
      "source": "1. What does an empty dictionary's code look like?",
      "metadata": {},
      "execution_count": null,
      "outputs": []
    },
    {
      "cell_type": "code",
      "source": "An empty dictionary can be created using  {}.\nexample:\n    empty_dict = {}\n    type(empty_dict)\n    ",
      "metadata": {},
      "execution_count": null,
      "outputs": []
    },
    {
      "cell_type": "code",
      "source": "2.What is the value of a dictionary value with the key 'foo' and the value 42?",
      "metadata": {},
      "execution_count": null,
      "outputs": []
    },
    {
      "cell_type": "code",
      "source": "{'foo': 42}",
      "metadata": {
        "trusted": true
      },
      "execution_count": 1,
      "outputs": [
        {
          "execution_count": 1,
          "output_type": "execute_result",
          "data": {
            "text/plain": "{'foo': 42}"
          },
          "metadata": {}
        }
      ]
    },
    {
      "cell_type": "code",
      "source": "3. What is the most significant distinction between a dictionary and a list?",
      "metadata": {},
      "execution_count": null,
      "outputs": []
    },
    {
      "cell_type": "code",
      "source": "The most significant distinction between a dictionary and a list is that a dictionary stores values in key-value pairs, \nwhile a list stores values with numeric indices.",
      "metadata": {},
      "execution_count": null,
      "outputs": []
    },
    {
      "cell_type": "code",
      "source": "4. What happens if you try to access spam['foo'] if spam is {'bar': 100}?",
      "metadata": {},
      "execution_count": null,
      "outputs": []
    },
    {
      "cell_type": "code",
      "source": "#it gives us error\nspam = {'bar':100}\nspam['foo']",
      "metadata": {
        "trusted": true
      },
      "execution_count": 2,
      "outputs": [
        {
          "ename": "<class 'KeyError'>",
          "evalue": "'foo'",
          "traceback": [
            "\u001b[0;31m---------------------------------------------------------------------------\u001b[0m",
            "\u001b[0;31mKeyError\u001b[0m                                  Traceback (most recent call last)",
            "Cell \u001b[0;32mIn[2], line 3\u001b[0m\n\u001b[1;32m      1\u001b[0m \u001b[38;5;66;03m#it gives us error\u001b[39;00m\n\u001b[1;32m      2\u001b[0m spam \u001b[38;5;241m=\u001b[39m {\u001b[38;5;124m'\u001b[39m\u001b[38;5;124mbar\u001b[39m\u001b[38;5;124m'\u001b[39m:\u001b[38;5;241m100\u001b[39m}\n\u001b[0;32m----> 3\u001b[0m \u001b[43mspam\u001b[49m\u001b[43m[\u001b[49m\u001b[38;5;124;43m'\u001b[39;49m\u001b[38;5;124;43mfoo\u001b[39;49m\u001b[38;5;124;43m'\u001b[39;49m\u001b[43m]\u001b[49m\n",
            "\u001b[0;31mKeyError\u001b[0m: 'foo'"
          ],
          "output_type": "error"
        }
      ]
    },
    {
      "cell_type": "code",
      "source": "5. If a dictionary is stored in spam, what is the difference between the expressions 'cat' in spam and 'cat' in spam.keys()?",
      "metadata": {},
      "execution_count": null,
      "outputs": []
    },
    {
      "cell_type": "code",
      "source": "spam = {'cat': 2, 'dog': 3, 'bird': 1}\n\n# Check if 'cat' is a key in spam\nif 'cat' in spam:\n    print('cat is a key in spam')\n\n# Check if 'cat' is a key in spam using spam.keys()\nif 'cat' in spam.keys():\n    print('cat is a key in spam')\n",
      "metadata": {
        "trusted": true
      },
      "execution_count": 3,
      "outputs": [
        {
          "name": "stdout",
          "text": "cat is a key in spam\ncat is a key in spam\n",
          "output_type": "stream"
        }
      ]
    },
    {
      "cell_type": "markdown",
      "source": "As we can see both expressions return the same result.",
      "metadata": {}
    },
    {
      "cell_type": "code",
      "source": "7. What is a shortcut for the following code?\nif 'color' not in spam:\nspam['color'] = 'black'",
      "metadata": {},
      "execution_count": null,
      "outputs": []
    },
    {
      "cell_type": "code",
      "source": "#A shortcut for the following code is \nspam.setdefault('color', 'black')",
      "metadata": {
        "trusted": true
      },
      "execution_count": 6,
      "outputs": [
        {
          "execution_count": 6,
          "output_type": "execute_result",
          "data": {
            "text/plain": "'black'"
          },
          "metadata": {}
        }
      ]
    },
    {
      "cell_type": "code",
      "source": "8. How do you 'pretty print' dictionary values using which module and function?",
      "metadata": {},
      "execution_count": null,
      "outputs": []
    },
    {
      "cell_type": "markdown",
      "source": "To pretty print dictionary values we can use the pprint module's pprint() function in Python",
      "metadata": {}
    },
    {
      "cell_type": "code",
      "source": "import pprint\n\nmy_dict = {'name': 'me', 'age': 21, 'city': 'Patna'}\n\npprint.pprint(my_dict)\n",
      "metadata": {
        "trusted": true
      },
      "execution_count": 9,
      "outputs": [
        {
          "name": "stdout",
          "text": "{'age': 21, 'city': 'Patna', 'name': 'me'}\n",
          "output_type": "stream"
        }
      ]
    }
  ]
}