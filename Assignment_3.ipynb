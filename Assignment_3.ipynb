{
  "metadata": {
    "language_info": {
      "codemirror_mode": {
        "name": "python",
        "version": 3
      },
      "file_extension": ".py",
      "mimetype": "text/x-python",
      "name": "python",
      "nbconvert_exporter": "python",
      "pygments_lexer": "ipython3",
      "version": "3.8"
    },
    "kernelspec": {
      "name": "python",
      "display_name": "Python (Pyodide)",
      "language": "python"
    }
  },
  "nbformat_minor": 4,
  "nbformat": 4,
  "cells": [
    {
      "cell_type": "code",
      "source": "1. Why are functions advantageous to have in your programs?",
      "metadata": {},
      "execution_count": null,
      "outputs": []
    },
    {
      "cell_type": "code",
      "source": "Functions are advantageous to have in programs for several reasons:\n    1. Reusability\n    2. Modularity\n    3. Abstraction\n    4. Encapsulation:",
      "metadata": {},
      "execution_count": null,
      "outputs": []
    },
    {
      "cell_type": "code",
      "source": "2. When does the code in a function run: when it's specified or when it's called?",
      "metadata": {},
      "execution_count": null,
      "outputs": []
    },
    {
      "cell_type": "code",
      "source": "The code in a function runs when the function is called, not when it is specified.\nWhen a function is specified it is stored in memory for later use.\nAnd when function is called, the code inside the function will be executed line by line.",
      "metadata": {},
      "execution_count": null,
      "outputs": []
    },
    {
      "cell_type": "code",
      "source": "3. What statement creates a function?",
      "metadata": {},
      "execution_count": null,
      "outputs": []
    },
    {
      "cell_type": "code",
      "source": "def statement creates function(short for \"define\").",
      "metadata": {},
      "execution_count": null,
      "outputs": []
    },
    {
      "cell_type": "code",
      "source": "4. What is the difference between a function and a function call?",
      "metadata": {},
      "execution_count": null,
      "outputs": []
    },
    {
      "cell_type": "code",
      "source": "A function is a block of code that performs a specific task, and can be reused throughout a program.\nOn the other hand, a function call, is a statement that runs the code contained in a particular function,\npassing any required input values as arguments.",
      "metadata": {},
      "execution_count": null,
      "outputs": []
    },
    {
      "cell_type": "code",
      "source": "5. How many global scopes are there in a Python program? How many local scopes?",
      "metadata": {},
      "execution_count": null,
      "outputs": []
    },
    {
      "cell_type": "code",
      "source": "In Python there is only one global scope per program, created when the program starts running.\nThis global scope includes all  variables, functions, and other objects  defined at the top \nlevel of the program except for function definitions or other nested scopes.\nThe number of local scopes in a Python program can vary depending on the number of functions that are defined and called during the program's execution.",
      "metadata": {},
      "execution_count": null,
      "outputs": []
    },
    {
      "cell_type": "code",
      "source": "6. What happens to variables in a local scope when the function call returns?",
      "metadata": {},
      "execution_count": null,
      "outputs": []
    },
    {
      "cell_type": "code",
      "source": "When a function call returns in Python, the local scope that was created for the function is destroyed,\nalong with any variables that were defined within it. This means that any variables or objects that were \ndefined within the local scope of the function are no longer accessible from outside the function.",
      "metadata": {},
      "execution_count": null,
      "outputs": []
    },
    {
      "cell_type": "code",
      "source": "7. What is the concept of a return value? Is it possible to have a return value in an expression?",
      "metadata": {},
      "execution_count": null,
      "outputs": []
    },
    {
      "cell_type": "code",
      "source": "A return value is the value that a function returns when it is called and completes its execution.\nYes, it is possible to have a return value in an expression.",
      "metadata": {},
      "execution_count": null,
      "outputs": []
    },
    {
      "cell_type": "code",
      "source": "8. If a function does not have a return statement, what is the return value of a call to that function?",
      "metadata": {},
      "execution_count": null,
      "outputs": []
    },
    {
      "cell_type": "code",
      "source": "If a function does not have a return statement, then the function will return None by default.",
      "metadata": {},
      "execution_count": null,
      "outputs": []
    },
    {
      "cell_type": "code",
      "source": "9. How do you make a function variable refer to the global variable?",
      "metadata": {},
      "execution_count": null,
      "outputs": []
    },
    {
      "cell_type": "code",
      "source": "By using the global keyword inside the function, we can make the function variable refer\nto the global variable with the same name, and modify its value from within the function.",
      "metadata": {},
      "execution_count": null,
      "outputs": []
    },
    {
      "cell_type": "code",
      "source": "10. What is the data type of None?",
      "metadata": {},
      "execution_count": null,
      "outputs": []
    },
    {
      "cell_type": "code",
      "source": "The data type of None is NoneType.",
      "metadata": {},
      "execution_count": null,
      "outputs": []
    },
    {
      "cell_type": "code",
      "source": "11. What does the sentence import areallyourpetsnamederic do?",
      "metadata": {},
      "execution_count": null,
      "outputs": []
    },
    {
      "cell_type": "code",
      "source": "The sentence import areallyourpetsnamederic is a syntactically valid Python statement,\nbut it does not have any meaningful effect because there is no such module with that name in the Python standard library",
      "metadata": {},
      "execution_count": null,
      "outputs": []
    },
    {
      "cell_type": "code",
      "source": "12. If you had a bacon() feature in a spam module, what would you call it after importing spam?",
      "metadata": {},
      "execution_count": null,
      "outputs": []
    },
    {
      "cell_type": "code",
      "source": "If we have a bacon() function in a module named spam, and we have to import the spam module into Python,\nthen we call the bacon() function using the dot notation.\neg - \n    import spam\n    spam.bacon()",
      "metadata": {},
      "execution_count": null,
      "outputs": []
    },
    {
      "cell_type": "code",
      "source": "13. What can you do to save a programme from crashing if it encounters an error?",
      "metadata": {},
      "execution_count": null,
      "outputs": []
    },
    {
      "cell_type": "code",
      "source": "We can use exception handling to prevent a program from crashing when it encounters an error.\nAn exception is a Python object that represents an error condition that occurs during the execution of a program.\nIn addition to exception handling, there are other techniques which we can use to prevent a program from crashing,\nsuch as defensive programming, testing and debugging, and using assertions to check for errors at runtime.",
      "metadata": {},
      "execution_count": null,
      "outputs": []
    },
    {
      "cell_type": "code",
      "source": "14. What is the purpose of the try clause? What is the purpose of the except clause?",
      "metadata": {},
      "execution_count": null,
      "outputs": []
    },
    {
      "cell_type": "code",
      "source": "The try clause is used to enclose the code that may raise an exception,\nand the except clause is used to handle the exception that occurs.",
      "metadata": {},
      "execution_count": null,
      "outputs": []
    }
  ]
}