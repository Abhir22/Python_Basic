{
  "metadata": {
    "language_info": {
      "codemirror_mode": {
        "name": "python",
        "version": 3
      },
      "file_extension": ".py",
      "mimetype": "text/x-python",
      "name": "python",
      "nbconvert_exporter": "python",
      "pygments_lexer": "ipython3",
      "version": "3.8"
    },
    "kernelspec": {
      "name": "python",
      "display_name": "Python (Pyodide)",
      "language": "python"
    }
  },
  "nbformat_minor": 4,
  "nbformat": 4,
  "cells": [
    {
      "cell_type": "code",
      "source": "1. What are escape characters, and how do you use them?",
      "metadata": {},
      "execution_count": null,
      "outputs": []
    },
    {
      "cell_type": "code",
      "source": "Escape characters are special characters that are used to represent certain characters that are difficult or impossible to type in a string. \nThey are represented by a backslash () followed by a character or sequence of characters.\nExample: /n used for new line.\n",
      "metadata": {},
      "execution_count": null,
      "outputs": []
    },
    {
      "cell_type": "code",
      "source": "2. What do the escape characters n and t stand for?",
      "metadata": {},
      "execution_count": null,
      "outputs": []
    },
    {
      "cell_type": "code",
      "source": "The escape character \\n stands for a newline character which is used to start a new line. \nThe escape character \\t stands for a tab character which is used to add horizontal space between characters.",
      "metadata": {},
      "execution_count": null,
      "outputs": []
    },
    {
      "cell_type": "code",
      "source": "3. What is the way to include backslash characters in a string?",
      "metadata": {},
      "execution_count": null,
      "outputs": []
    },
    {
      "cell_type": "code",
      "source": "Use a double backslash (\\) because the backslash is an escape character and a single backslash is used to escape another character.",
      "metadata": {},
      "execution_count": null,
      "outputs": []
    },
    {
      "cell_type": "code",
      "source": "4. The string \"Howl's Moving Castle\" is a correct value. Why isn&#39;t the single quote character in the\nword Howl's not escaped a problem?",
      "metadata": {},
      "execution_count": null,
      "outputs": []
    },
    {
      "cell_type": "code",
      "source": "The single quote character in the word Howl's is not a problem because the string is enclosed in double quotes.\n",
      "metadata": {},
      "execution_count": null,
      "outputs": []
    },
    {
      "cell_type": "markdown",
      "source": "5. How do you write a string of newlines if you don't want to use the n character?",
      "metadata": {}
    },
    {
      "cell_type": "code",
      "source": "print(\"printing something in new line\",end = '\\n')\nprint(\"newline\")",
      "metadata": {
        "trusted": true
      },
      "execution_count": 2,
      "outputs": [
        {
          "name": "stdout",
          "text": "printing something in new line\nnewline\n",
          "output_type": "stream"
        }
      ]
    },
    {
      "cell_type": "markdown",
      "source": "6. What are the values of the given expressions?\n   'Hello, world!'[1] \n   'Hello, world!'[0:5]\n   'Hello, world!'[:5]\n   'Hello, world!'[3:]",
      "metadata": {}
    },
    {
      "cell_type": "code",
      "source": "'Hello, world!'[1]",
      "metadata": {
        "trusted": true
      },
      "execution_count": 1,
      "outputs": [
        {
          "execution_count": 1,
          "output_type": "execute_result",
          "data": {
            "text/plain": "'e'"
          },
          "metadata": {}
        }
      ]
    },
    {
      "cell_type": "code",
      "source": "'Hello, world!'[0:5]",
      "metadata": {
        "trusted": true
      },
      "execution_count": 3,
      "outputs": [
        {
          "execution_count": 3,
          "output_type": "execute_result",
          "data": {
            "text/plain": "'Hello'"
          },
          "metadata": {}
        }
      ]
    },
    {
      "cell_type": "code",
      "source": "'Hello, world!'[:5]",
      "metadata": {
        "trusted": true
      },
      "execution_count": 4,
      "outputs": [
        {
          "execution_count": 4,
          "output_type": "execute_result",
          "data": {
            "text/plain": "'Hello'"
          },
          "metadata": {}
        }
      ]
    },
    {
      "cell_type": "code",
      "source": "'Hello, world!'[3:]",
      "metadata": {
        "trusted": true
      },
      "execution_count": 5,
      "outputs": [
        {
          "execution_count": 5,
          "output_type": "execute_result",
          "data": {
            "text/plain": "'lo, world!'"
          },
          "metadata": {}
        }
      ]
    },
    {
      "cell_type": "markdown",
      "source": "7. What are the values of the following expressions?",
      "metadata": {}
    },
    {
      "cell_type": "code",
      "source": "'Hello'.upper()",
      "metadata": {
        "trusted": true
      },
      "execution_count": 7,
      "outputs": [
        {
          "execution_count": 7,
          "output_type": "execute_result",
          "data": {
            "text/plain": "'HELLO'"
          },
          "metadata": {}
        }
      ]
    },
    {
      "cell_type": "code",
      "source": "'Hello'.upper().isupper()",
      "metadata": {
        "trusted": true
      },
      "execution_count": 8,
      "outputs": [
        {
          "execution_count": 8,
          "output_type": "execute_result",
          "data": {
            "text/plain": "True"
          },
          "metadata": {}
        }
      ]
    },
    {
      "cell_type": "code",
      "source": "'Hello'.upper().lower()",
      "metadata": {
        "trusted": true
      },
      "execution_count": 9,
      "outputs": [
        {
          "execution_count": 9,
          "output_type": "execute_result",
          "data": {
            "text/plain": "'hello'"
          },
          "metadata": {}
        }
      ]
    },
    {
      "cell_type": "markdown",
      "source": "8. What are the values of the following expressions?\n'Remember, remember, the fifth of July.'.split() '-'.join('There can only one.'.split())",
      "metadata": {}
    },
    {
      "cell_type": "code",
      "source": "'Remember, remember, the fifth of July.'.split()",
      "metadata": {
        "trusted": true
      },
      "execution_count": 11,
      "outputs": [
        {
          "execution_count": 11,
          "output_type": "execute_result",
          "data": {
            "text/plain": "['Remember,', 'remember,', 'the', 'fifth', 'of', 'July.']"
          },
          "metadata": {}
        }
      ]
    },
    {
      "cell_type": "markdown",
      "source": "9. What are the methods for right-justifying, left-justifying, and centering a string?",
      "metadata": {}
    },
    {
      "cell_type": "code",
      "source": "# left justified\nstr ='Abc'\nstr.ljust(10,\"-\")",
      "metadata": {
        "trusted": true
      },
      "execution_count": 15,
      "outputs": [
        {
          "execution_count": 15,
          "output_type": "execute_result",
          "data": {
            "text/plain": "'Abc-------'"
          },
          "metadata": {}
        }
      ]
    },
    {
      "cell_type": "code",
      "source": "# right justified\nstr =\"XYz is\"\nstr.rjust(40,'*')",
      "metadata": {
        "trusted": true
      },
      "execution_count": 14,
      "outputs": [
        {
          "execution_count": 14,
          "output_type": "execute_result",
          "data": {
            "text/plain": "'**********************************XYz is'"
          },
          "metadata": {}
        }
      ]
    },
    {
      "cell_type": "code",
      "source": "# center justified\nstr =\"Hi \"\nstr.center(40,'*')",
      "metadata": {
        "trusted": true
      },
      "execution_count": 13,
      "outputs": [
        {
          "execution_count": 13,
          "output_type": "execute_result",
          "data": {
            "text/plain": "'******************Hi *******************'"
          },
          "metadata": {}
        }
      ]
    },
    {
      "cell_type": "markdown",
      "source": "10. What is the best way to remove whitespace characters from the start or end?",
      "metadata": {}
    },
    {
      "cell_type": "markdown",
      "source": "The best way to remove whitespace characters from the start or end of a string is to use the strip() method.",
      "metadata": {}
    },
    {
      "cell_type": "code",
      "source": "#for start whitespace\na = \"   Hello, world!   \"\nb = a.lstrip()\nprint(b)\n",
      "metadata": {
        "trusted": true
      },
      "execution_count": 16,
      "outputs": [
        {
          "name": "stdout",
          "text": "Hello, world!   \n",
          "output_type": "stream"
        }
      ]
    },
    {
      "cell_type": "code",
      "source": "#for end whitespace\na = \"   Hello, world!   \"\nb = a.rstrip()\nprint(b) \n",
      "metadata": {
        "trusted": true
      },
      "execution_count": 19,
      "outputs": [
        {
          "name": "stdout",
          "text": "   Hello, world!\n",
          "output_type": "stream"
        }
      ]
    },
    {
      "cell_type": "code",
      "source": "#for both whitespace at once\na = \"   Hello, world!   \"\nb = a.strip()\nprint(b)\n",
      "metadata": {
        "trusted": true
      },
      "execution_count": 20,
      "outputs": [
        {
          "name": "stdout",
          "text": "Hello, world!\n",
          "output_type": "stream"
        }
      ]
    }
  ]
}